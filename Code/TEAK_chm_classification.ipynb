{
 "cells": [
  {
   "cell_type": "markdown",
   "metadata": {},
   "source": [
    "## Classification and Differencing of Two Canopy Height Models for the Teakettle Experimental Watershed\n",
    "\n",
    "The goal of this program is to read in two canopy height models, classify them by height, and perform a change detection.\n",
    "\n",
    "Nicole Abib nicole.abib@duke.edu"
   ]
  },
  {
   "cell_type": "code",
   "execution_count": null,
   "metadata": {},
   "outputs": [],
   "source": [
    "# Check python version\n",
    "import sys\n",
    "sys.version"
   ]
  },
  {
   "cell_type": "code",
   "execution_count": null,
   "metadata": {},
   "outputs": [],
   "source": [
    "# Import required libraries\n",
    "import numpy as np\n",
    "import gdal, osr, copy\n",
    "import matplotlib.pyplot as plt\n",
    "%matplotlib inline\n",
    "import warnings\n",
    "warnings.filterwarnings('ignore')"
   ]
  },
  {
   "cell_type": "code",
   "execution_count": null,
   "metadata": {},
   "outputs": [],
   "source": [
    "# %load ../functions/neon_aop_lidar_python_functions/raster2array.py\n",
    "def raster2array(geotif_file):\n",
    "    metadata = {}\n",
    "    dataset = gdal.Open(geotif_file)\n",
    "    metadata['array_rows'] = dataset.RasterYSize\n",
    "    metadata['array_cols'] = dataset.RasterXSize\n",
    "    metadata['bands'] = dataset.RasterCount\n",
    "    metadata['driver'] = dataset.GetDriver().LongName\n",
    "    metadata['projection'] = dataset.GetProjection()\n",
    "    metadata['geotransform'] = dataset.GetGeoTransform()\n",
    "    \n",
    "    mapinfo = dataset.GetGeoTransform()\n",
    "    metadata['pixelWidth'] = mapinfo[1]\n",
    "    metadata['pixelHeight'] = mapinfo[5]\n",
    "\n",
    "    xMin = mapinfo[0]\n",
    "    xMax = mapinfo[0] + dataset.RasterXSize/mapinfo[1]\n",
    "    yMin = mapinfo[3] + dataset.RasterYSize/mapinfo[5]\n",
    "    yMax = mapinfo[3]\n",
    "    \n",
    "    metadata['extent'] = (xMin,xMax,yMin,yMax)\n",
    "    \n",
    "    raster = dataset.GetRasterBand(1)\n",
    "    array_shape = raster.ReadAsArray(0,0,metadata['array_cols'],metadata['array_rows']).astype(np.float).shape\n",
    "    metadata['noDataValue'] = raster.GetNoDataValue()\n",
    "    metadata['scaleFactor'] = raster.GetScale()\n",
    "    \n",
    "    array = np.zeros((array_shape[0],array_shape[1],dataset.RasterCount),'uint8') #pre-allocate stackedArray matrix\n",
    "    \n",
    "    if metadata['bands'] == 1:\n",
    "        raster = dataset.GetRasterBand(1)\n",
    "        metadata['noDataValue'] = raster.GetNoDataValue()\n",
    "        metadata['scaleFactor'] = raster.GetScale()\n",
    "              \n",
    "        array = dataset.GetRasterBand(1).ReadAsArray(0,0,metadata['array_cols'],metadata['array_rows']).astype(np.float)\n",
    "        array[np.where(array==metadata['noDataValue'])]=np.nan\n",
    "        array = array/metadata['scaleFactor']\n",
    "    \n",
    "    elif metadata['bands'] > 1:    \n",
    "        for i in range(1, dataset.RasterCount+1):\n",
    "            band = float(dataset.GetRasterBand(i).ReadAsArray(0,0,metadata['array_cols'],metadata['array_rows']))\n",
    "            band[np.where(band==metadata['noDataValue'])]=np.nan\n",
    "            band = band/metadata['scaleFactor']\n",
    "            array[...,i-1] = band\n",
    "\n",
    "    return array, metadata"
   ]
  },
  {
   "cell_type": "code",
   "execution_count": null,
   "metadata": {},
   "outputs": [],
   "source": [
    "# Read in geotiff\n",
    "teak_chm = ''"
   ]
  },
  {
   "cell_type": "code",
   "execution_count": null,
   "metadata": {},
   "outputs": [],
   "source": [
    "# extract filename for later use\n",
    "just_chm_file = os.path.basename(teak_chm)\n",
    "just_chm_file_split = just_chm_file.split(sep=\"_\")"
   ]
  },
  {
   "cell_type": "code",
   "execution_count": null,
   "metadata": {},
   "outputs": [],
   "source": [
    "chm_array, chm_array_metadata = raster2array(teak_chm)"
   ]
  },
  {
   "cell_type": "code",
   "execution_count": null,
   "metadata": {},
   "outputs": [],
   "source": [
    "# Plot CHM\n",
    "plt.figure(1)\n",
    "\n",
    "plot_band_array(chm_array,\n",
    "               chm_array_metadata['extent'],\n",
    "               'Canopy Height Model',\n",
    "               'Canopy Height (m)',\n",
    "               'Greens',[0, 9])\n",
    "\n",
    "plt.savefig('../output/'+ just_chm_file[0:-4]+'.png',\n",
    "            dpi=300,\n",
    "            orientation='landscape',\n",
    "            bbox_inches='tight',\n",
    "            pad_inches=0.1)"
   ]
  },
  {
   "cell_type": "code",
   "execution_count": null,
   "metadata": {},
   "outputs": [],
   "source": [
    "# Extract spatial information of dataset\n",
    "chm_mapinfo = teak_chm_dataset.GetGeoTransform()\n",
    "chm_mapinfo"
   ]
  },
  {
   "cell_type": "code",
   "execution_count": null,
   "metadata": {},
   "outputs": [],
   "source": [
    "xMin = chm_mapinfo[0]\n",
    "yMax = chm_mapinfo[3]\n",
    "\n",
    "xMax = xMin + cols/chm_mapinfo[1]\n",
    "yMin = yMax + rows/chm_mapinfo[5]\n",
    "\n",
    "chm_ext = (xMin,xMax,yMin,yMax)\n",
    "print('chm raster extent:',chm_ext)"
   ]
  },
  {
   "cell_type": "code",
   "execution_count": null,
   "metadata": {},
   "outputs": [],
   "source": [
    "# Calculate statistics for dataset\n",
    "chm_stats = chm_array.GetStatistics(True,True)\n",
    "print('TEAK CHM Statistics: Minimum = %.2f, Maximum = %.2f, Mean = %.3f, StDev = %.3f'\n",
    "     %(chm_stats[0],chm_stats[1],chm_stats[2],chm_stats[3]))"
   ]
  },
  {
   "cell_type": "code",
   "execution_count": null,
   "metadata": {},
   "outputs": [],
   "source": [
    "# Convert no data values to NaN\n",
    "chm_array[chm_array == int(noDataVal)]=np.nan"
   ]
  },
  {
   "cell_type": "code",
   "execution_count": null,
   "metadata": {},
   "outputs": [],
   "source": [
    "print(chm_array)"
   ]
  },
  {
   "cell_type": "code",
   "execution_count": null,
   "metadata": {},
   "outputs": [],
   "source": [
    "# Determine shape of array\n",
    "chm_array.shape"
   ]
  },
  {
   "cell_type": "code",
   "execution_count": null,
   "metadata": {},
   "outputs": [],
   "source": [
    "# Determine the percent NaN and NonZero Data Values\n",
    "pct_nan = np.count_nonzero(np.isnan(chm_array))/(rows*cols)\n",
    "print('Percent NaN:',round(pct_nan*100,2))\n",
    "print('Percent non-zero:',round(100*np.count_nonzero(chm_array)/(rows*cols),2))"
   ]
  },
  {
   "cell_type": "code",
   "execution_count": null,
   "metadata": {},
   "outputs": [],
   "source": [
    "# %load ../functions/neon_aop_lidar_python_functions/plot_spatial_array.py\n",
    "def plot_spatial_array(band_array,spatial_extent,colorlimit,ax=plt.gca(),title='',cmap_title='',colormap='greys'):\n",
    "    plot = plt.imshow(band_array,extent=spatial_extent,clim=colorlimit); \n",
    "    cbar = plt.colorbar(plot,aspect=40); plt.set_cmap(colormap); \n",
    "    cbar.set_label(cmap_title,rotation=90,labelpad=20);\n",
    "    plt.title(title); ax = plt.gca(); \n",
    "    ax.ticklabel_format(useOffset=False, style='plain'); #do not use scientific notation #\n",
    "    rotatexlabels = plt.setp(ax.get_xticklabels(),rotation=90); #rotate x tick labels 90 degrees"
   ]
  },
  {
   "cell_type": "code",
   "execution_count": null,
   "metadata": {},
   "outputs": [],
   "source": [
    "# First plot of Canopy Height Model\n",
    "plot_spatial_array(chm_array,chm_ext, colorlimit = [np.min(chm_array),np.max(chm_array)],colormap='RdYlGn')"
   ]
  },
  {
   "cell_type": "code",
   "execution_count": null,
   "metadata": {},
   "outputs": [],
   "source": [
    "# Plot a histogram of the canopy height model with 100 bins\n",
    "plt.hist(chm_array[~np.isnan(chm_array)],100);\n",
    "ax = plt.gca()\n",
    "ax.set_ylim([0,15000])\n",
    "plt.title('Distribution of TEAK Canopy Height')\n",
    "plt.xlabel('Tree Height (m)')\n",
    "plt.ylabel('Relative Frequency')"
   ]
  },
  {
   "cell_type": "code",
   "execution_count": null,
   "metadata": {},
   "outputs": [],
   "source": [
    "# Plot Canopy Height Model with heights above 35 meters masked out\n",
    "plot_spatial_array(chm_array,chm_ext,(0,35),title='TEAK Canopy Height',cmap_title='Canopy Height, m',colormap = 'BuGn')"
   ]
  },
  {
   "cell_type": "markdown",
   "metadata": {},
   "source": [
    "### Threshold Based Raster Classification"
   ]
  },
  {
   "cell_type": "code",
   "execution_count": null,
   "metadata": {},
   "outputs": [],
   "source": [
    "# Classify canopy height model into five 10m classes\n",
    "chm_reclass = copy.copy(chm_array)\n",
    "chm_reclass[np.where(chm_array==0)]=1\n",
    "chm_reclass[np.where((chm_array > 0) &(chm_array <= 10))] = 2\n",
    "chm_reclass[np.where((chm_array > 10) &(chm_array <= 20))] = 3\n",
    "chm_reclass[np.where((chm_array > 20) &(chm_array <= 30))] = 4\n",
    "chm_reclass[np.where(chm_array > 30)] = 5"
   ]
  },
  {
   "cell_type": "code",
   "execution_count": null,
   "metadata": {},
   "outputs": [],
   "source": [
    "# Plot classified canopy height model\n",
    "import matplotlib.colors as colors\n",
    "plt.figure()\n",
    "cmapCHM = colors.ListedColormap(['lightblue','yellow','orange','green','red'])\n",
    "plt.imshow(chm_reclass,extent=chm_ext,cmap=cmapCHM)\n",
    "plt.title('TEAK CHM Classification')\n",
    "ax = plt.gca()\n",
    "ax.ticklabel_format(useOffset=False, style='plain')\n",
    "rotatexlabels = plt.setp(ax.get_xticklabels(),rotation=90)\n",
    "\n",
    "import matplotlib.patches as mpatches\n",
    "class1_box = mpatches.Patch(color='lightblue', label='CHM = 0m')\n",
    "class2_box = mpatches.Patch(color='yellow', label='0m < CHM <= 10m')\n",
    "class3_box = mpatches.Patch(color='orange', label='10m < CHM <= 20m')\n",
    "class4_box = mpatches.Patch(color='green', label='20m < CHM <= 30m')\n",
    "class5_box = mpatches.Patch(color='red', label='CHM > 30m')\n",
    "\n",
    "ax.legend(handles = [class1_box,class2_box,class3_box,class4_box,class5_box], handlelength = 0.7, bbox_to_anchor = (1.05, 0.4),loc='lower left',borderaxespad=0.)\n"
   ]
  },
  {
   "cell_type": "code",
   "execution_count": null,
   "metadata": {},
   "outputs": [],
   "source": []
  }
 ],
 "metadata": {
  "kernelspec": {
   "display_name": "Python 3.5 NEON-RSDI",
   "language": "python",
   "name": "py35"
  },
  "language_info": {
   "codemirror_mode": {
    "name": "ipython",
    "version": 3
   },
   "file_extension": ".py",
   "mimetype": "text/x-python",
   "name": "python",
   "nbconvert_exporter": "python",
   "pygments_lexer": "ipython3",
   "version": "3.5.5"
  }
 },
 "nbformat": 4,
 "nbformat_minor": 2
}
