{
 "cells": [
  {
   "cell_type": "code",
   "execution_count": 1,
   "metadata": {},
   "outputs": [],
   "source": [
    "import numpy as np\n",
    "from laspy.file import File\n",
    "import matplotlib.pyplot as plt\n",
    "inFile = File(\"../../../../NEON_Institute_2018/data/BC1_Down/BC1_Down/Photoscan_output/BC1_down.las\", mode = \"r\")"
   ]
  },
  {
   "cell_type": "code",
   "execution_count": 2,
   "metadata": {},
   "outputs": [
    {
     "data": {
      "text/plain": [
       "array([((579404, 645876,  973773,  7967, 73, 0, 0, 0, 1,  7967,  7967,  9509),),\n",
       "       ((580090, 645537,  974054,  6425, 73, 0, 0, 0, 1,  6168,  6682,  7967),),\n",
       "       ((579010, 644826,  973767,  7453, 73, 0, 0, 0, 1,  6939,  7710,  8995),),\n",
       "       ...,\n",
       "       ((913224, 953658, 1041633, 17990, 73, 0, 0, 0, 1, 19532, 17733, 16448),),\n",
       "       ((912995, 954376, 1041848, 39578, 73, 0, 0, 0, 1, 41377, 39321, 36751),),\n",
       "       ((912481, 954253, 1041462, 36751, 73, 0, 0, 0, 1, 37265, 37265, 34181),)],\n",
       "      dtype=[('point', [('X', '<i4'), ('Y', '<i4'), ('Z', '<i4'), ('intensity', '<u2'), ('flag_byte', 'u1'), ('raw_classification', 'u1'), ('scan_angle_rank', 'i1'), ('user_data', 'u1'), ('pt_src_id', '<u2'), ('red', '<u2'), ('green', '<u2'), ('blue', '<u2')])])"
      ]
     },
     "execution_count": 2,
     "metadata": {},
     "output_type": "execute_result"
    }
   ],
   "source": [
    "# Grab all of the points from the file.\n",
    "point_records = inFile.points\n",
    "point_records"
   ]
  },
  {
   "cell_type": "code",
   "execution_count": 3,
   "metadata": {},
   "outputs": [
    {
     "name": "stdout",
     "output_type": "stream",
     "text": [
      "X\n",
      "Y\n",
      "Z\n",
      "intensity\n",
      "flag_byte\n",
      "raw_classification\n",
      "scan_angle_rank\n",
      "user_data\n",
      "pt_src_id\n",
      "red\n",
      "green\n",
      "blue\n"
     ]
    }
   ],
   "source": [
    "# Find out what the point format looks like.\n",
    "pointformat = inFile.point_format\n",
    "for spec in inFile.point_format:\n",
    "    print(spec.name)"
   ]
  },
  {
   "cell_type": "code",
   "execution_count": 4,
   "metadata": {},
   "outputs": [
    {
     "name": "stdout",
     "output_type": "stream",
     "text": [
      "file_sig\n",
      "file_source_id\n",
      "global_encoding\n",
      "proj_id_1\n",
      "proj_id_2\n",
      "proj_id_3\n",
      "proj_id_4\n",
      "version_major\n",
      "version_minor\n",
      "system_id\n",
      "software_id\n",
      "created_day\n",
      "created_year\n",
      "header_size\n",
      "data_offset\n",
      "num_variable_len_recs\n",
      "data_format_id\n",
      "data_record_length\n",
      "point_records_count\n",
      "point_return_count\n",
      "x_scale\n",
      "y_scale\n",
      "z_scale\n",
      "x_offset\n",
      "y_offset\n",
      "z_offset\n",
      "x_max\n",
      "x_min\n",
      "y_max\n",
      "y_min\n",
      "z_max\n",
      "z_min\n"
     ]
    }
   ],
   "source": [
    "#Lets take a look at the header also.\n",
    "headerformat = inFile.header.header_format\n",
    "for spec in headerformat:\n",
    "    print(spec.name)"
   ]
  },
  {
   "cell_type": "markdown",
   "metadata": {},
   "source": [
    "#### We can easily figure out which points are the last return by finding out for which points return_num is equal to num_returns."
   ]
  },
  {
   "cell_type": "code",
   "execution_count": 5,
   "metadata": {},
   "outputs": [
    {
     "name": "stdout",
     "output_type": "stream",
     "text": [
      "30074642 points out of 30074642 were ground points.\n"
     ]
    }
   ],
   "source": [
    "# Grab the return_num and num_returns dimensions\n",
    "num_returns = inFile.num_returns\n",
    "return_num = inFile.return_num\n",
    "ground_points = inFile.points[num_returns == return_num]\n",
    "\n",
    "print(\"%i points out of %i were ground points.\" % (len(ground_points),\n",
    "        len(inFile)))"
   ]
  },
  {
   "cell_type": "code",
   "execution_count": 6,
   "metadata": {},
   "outputs": [
    {
     "data": {
      "image/png": "[encoded data removed]",
      "text/plain": [
       "<Figure size 432x288 with 1 Axes>"
      ]
     },
     "metadata": {},
     "output_type": "display_data"
    }
   ],
   "source": [
    "plt.hist(inFile.intensity)\n",
    "plt.title(\"Histogram of the Intensity Dimension\")\n",
    "plt.show()"
   ]
  }
 ],
 "metadata": {
  "kernelspec": {
   "display_name": "Python 3.5 NEON-RSDI",
   "language": "python",
   "name": "p35"
  },
  "language_info": {
   "codemirror_mode": {
    "name": "ipython",
    "version": 3
   },
   "file_extension": ".py",
   "mimetype": "text/x-python",
   "name": "python",
   "nbconvert_exporter": "python",
   "pygments_lexer": "ipython3",
   "version": "3.5.5"
  }
 },
 "nbformat": 4,
 "nbformat_minor": 2
}
